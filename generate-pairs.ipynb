{
 "cells": [
  {
   "cell_type": "code",
   "execution_count": 1,
   "metadata": {},
   "outputs": [],
   "source": [
    "%matplotlib inline\n",
    "\n",
    "import matplotlib.pyplot as plt\n",
    "from openeye import oechem\n",
    "from perses.utils import openeye\n",
    "import openmoltools\n",
    "import numpy as np\n",
    "import itertools\n",
    "\n",
    "from perses.rjmc import topology_proposal\n",
    "from perses.rjmc.topology_proposal import TwoMoleculeSetProposalEngine\n",
    "from perses.utils.data import get_data_filename\n",
    "from tqdm import tqdm\n",
    "\n",
    "import logging, sys\n",
    "logging.disable(sys.maxsize)"
   ]
  },
  {
   "cell_type": "code",
   "execution_count": 2,
   "metadata": {},
   "outputs": [],
   "source": [
    "# count = 0\n",
    "# heavy_atom_counts = []\n",
    "\n",
    "# subset = open('subset.txt', 'w')\n",
    "# subset_smi = open('subset.smi', 'w')\n",
    "\n",
    "# with open('database.txt','r') as f:\n",
    "#     for line in f:\n",
    "#         if line[0] == '#':\n",
    "#             continue\n",
    "#         smile = line.split(';')[1]\n",
    "#         mol = openeye.smiles_to_oemol(smile)\n",
    "#         ha = oechem.OECount(mol, oechem.OEIsHeavy())\n",
    "#         if ha >= 3:\n",
    "#             heavy_atom_counts.append(ha)\n",
    "#             count += 1\n",
    "#             subset.write(line)\n",
    "#             subset_smi.write(smile+'\\n')"
   ]
  },
  {
   "cell_type": "code",
   "execution_count": 3,
   "metadata": {},
   "outputs": [],
   "source": [
    "all_mols = []\n",
    "with open('database.txt','r') as f:\n",
    "    for line in f:\n",
    "        if line[0] == '#':\n",
    "            continue\n",
    "        smile = line.split(';')[1]\n",
    "        mol = openeye.smiles_to_oemol(smile)\n",
    "        all_mols.append(mol)"
   ]
  },
  {
   "cell_type": "code",
   "execution_count": 9,
   "metadata": {},
   "outputs": [],
   "source": [
    "good_pairs = []"
   ]
  },
  {
   "cell_type": "code",
   "execution_count": 10,
   "metadata": {
    "scrolled": true
   },
   "outputs": [
    {
     "name": "stderr",
     "output_type": "stream",
     "text": [
      "\n",
      "\n",
      "\n",
      "\n",
      "0it [00:00, ?it/s]\u001b[A\u001b[A\u001b[A\u001b[A/Users/brucemah/miniconda3/lib/python3.6/site-packages/perses-0.1-py3.6.egg/perses/rjmc/topology_proposal.py:2784: RuntimeWarning: invalid value encountered in true_divide\n",
      "  probability_matrix[i, :] /= row_sum\n",
      "/Users/brucemah/miniconda3/lib/python3.6/site-packages/perses-0.1-py3.6.egg/perses/rjmc/topology_proposal.py:2784: RuntimeWarning: invalid value encountered in true_divide\n",
      "  probability_matrix[i, :] /= row_sum\n",
      "\n",
      "\n",
      "\n",
      "\n",
      "1it [03:03, 183.38s/it]\u001b[A\u001b[A\u001b[A\u001b[A"
     ]
    },
    {
     "name": "stdout",
     "output_type": "stream",
     "text": [
      "[]\n",
      "0\n",
      "Match:  72 101\n",
      "Match:  72 105\n",
      "Match:  72 164\n",
      "Match:  72 233\n",
      "Match:  72 253\n",
      "Match:  72 306\n",
      "Match:  72 334\n",
      "Match:  72 343\n",
      "Match:  72 362\n",
      "Match:  72 368\n",
      "Match:  72 439\n",
      "Match:  72 460\n",
      "Match:  72 461\n",
      "Match:  72 469\n",
      "Match:  72 548\n",
      "Match:  72 551\n",
      "Match:  72 586\n"
     ]
    },
    {
     "name": "stderr",
     "output_type": "stream",
     "text": [
      "\n",
      "\n",
      "\n",
      "\n",
      "2it [05:42, 176.01s/it]\u001b[A\u001b[A\u001b[A\u001b[A"
     ]
    },
    {
     "name": "stdout",
     "output_type": "stream",
     "text": [
      "[(72, 101), (72, 105), (72, 164), (72, 233), (72, 253), (72, 306), (72, 334), (72, 343), (72, 362), (72, 368), (72, 439), (72, 460), (72, 461), (72, 469), (72, 548), (72, 551), (72, 586)]\n",
      "17\n",
      "Match:  73 76\n",
      "Match:  73 106\n",
      "Match:  73 122\n",
      "Match:  73 157\n",
      "Match:  73 164\n",
      "Match:  73 186\n",
      "Match:  73 201\n",
      "Match:  73 225\n",
      "Match:  73 253\n",
      "Match:  73 265\n",
      "Match:  73 343\n",
      "Match:  73 397\n",
      "Match:  73 469\n",
      "Match:  73 475\n",
      "Match:  73 504\n",
      "Match:  73 536\n",
      "Match:  73 554\n",
      "Match:  73 569\n",
      "Match:  73 629\n",
      "Match:  73 634\n"
     ]
    },
    {
     "name": "stderr",
     "output_type": "stream",
     "text": [
      "\n",
      "\n",
      "\n",
      "\n",
      "3it [07:12, 150.34s/it]\u001b[A\u001b[A\u001b[A\u001b[A"
     ]
    },
    {
     "name": "stdout",
     "output_type": "stream",
     "text": [
      "[(72, 101), (72, 105), (72, 164), (72, 233), (72, 253), (72, 306), (72, 334), (72, 343), (72, 362), (72, 368), (72, 439), (72, 460), (72, 461), (72, 469), (72, 548), (72, 551), (72, 586), (73, 76), (73, 106), (73, 122), (73, 157), (73, 164), (73, 186), (73, 201), (73, 225), (73, 253), (73, 265), (73, 343), (73, 397), (73, 469), (73, 475), (73, 504), (73, 536), (73, 554), (73, 569), (73, 629), (73, 634)]\n",
      "37\n",
      "Match:  74 124\n",
      "Match:  74 127\n",
      "Match:  74 163\n",
      "Match:  74 168\n",
      "Match:  74 192\n",
      "Match:  74 196\n",
      "Match:  74 244\n",
      "Match:  74 251\n",
      "Match:  74 277\n",
      "Match:  74 335\n",
      "Match:  74 352\n"
     ]
    },
    {
     "name": "stderr",
     "output_type": "stream",
     "text": [
      "/Users/brucemah/miniconda3/lib/python3.6/site-packages/perses-0.1-py3.6.egg/perses/rjmc/topology_proposal.py:2784: RuntimeWarning: invalid value encountered in true_divide\n",
      "  probability_matrix[i, :] /= row_sum\n"
     ]
    },
    {
     "name": "stdout",
     "output_type": "stream",
     "text": [
      "Match:  74 530\n",
      "Match:  74 560\n",
      "Match:  74 612\n"
     ]
    },
    {
     "name": "stderr",
     "output_type": "stream",
     "text": [
      "\n",
      "\n",
      "\n",
      "\n",
      "4it [09:22, 144.21s/it]\u001b[A\u001b[A\u001b[A\u001b[A"
     ]
    },
    {
     "name": "stdout",
     "output_type": "stream",
     "text": [
      "[(72, 101), (72, 105), (72, 164), (72, 233), (72, 253), (72, 306), (72, 334), (72, 343), (72, 362), (72, 368), (72, 439), (72, 460), (72, 461), (72, 469), (72, 548), (72, 551), (72, 586), (73, 76), (73, 106), (73, 122), (73, 157), (73, 164), (73, 186), (73, 201), (73, 225), (73, 253), (73, 265), (73, 343), (73, 397), (73, 469), (73, 475), (73, 504), (73, 536), (73, 554), (73, 569), (73, 629), (73, 634), (74, 124), (74, 127), (74, 163), (74, 168), (74, 192), (74, 196), (74, 244), (74, 251), (74, 277), (74, 335), (74, 352), (74, 530), (74, 560), (74, 612)]\n",
      "51\n"
     ]
    },
    {
     "name": "stderr",
     "output_type": "stream",
     "text": [
      "\n",
      "\n",
      "\n",
      "\n",
      "5it [10:38, 123.79s/it]\u001b[A\u001b[A\u001b[A\u001b[A"
     ]
    },
    {
     "name": "stdout",
     "output_type": "stream",
     "text": [
      "[(72, 101), (72, 105), (72, 164), (72, 233), (72, 253), (72, 306), (72, 334), (72, 343), (72, 362), (72, 368), (72, 439), (72, 460), (72, 461), (72, 469), (72, 548), (72, 551), (72, 586), (73, 76), (73, 106), (73, 122), (73, 157), (73, 164), (73, 186), (73, 201), (73, 225), (73, 253), (73, 265), (73, 343), (73, 397), (73, 469), (73, 475), (73, 504), (73, 536), (73, 554), (73, 569), (73, 629), (73, 634), (74, 124), (74, 127), (74, 163), (74, 168), (74, 192), (74, 196), (74, 244), (74, 251), (74, 277), (74, 335), (74, 352), (74, 530), (74, 560), (74, 612)]\n",
      "51\n",
      "Match:  76 85\n",
      "Match:  76 93\n",
      "Match:  76 96\n",
      "Match:  76 157\n",
      "Match:  76 175\n",
      "Match:  76 186\n",
      "Match:  76 225\n",
      "Match:  76 241\n",
      "Match:  76 253\n",
      "Match:  76 265\n",
      "Match:  76 266\n",
      "Match:  76 326\n",
      "Match:  76 343\n",
      "Match:  76 397\n",
      "Match:  76 427\n"
     ]
    },
    {
     "name": "stderr",
     "output_type": "stream",
     "text": [
      "/Users/brucemah/miniconda3/lib/python3.6/site-packages/perses-0.1-py3.6.egg/perses/rjmc/topology_proposal.py:2784: RuntimeWarning: invalid value encountered in true_divide\n",
      "  probability_matrix[i, :] /= row_sum\n"
     ]
    },
    {
     "name": "stdout",
     "output_type": "stream",
     "text": [
      "Match:  76 475\n",
      "Match:  76 500\n",
      "Match:  76 536\n",
      "Match:  76 554\n",
      "Match:  76 569\n",
      "Match:  76 597\n",
      "Match:  76 599\n",
      "Match:  76 610\n",
      "Match:  76 629\n"
     ]
    },
    {
     "name": "stderr",
     "output_type": "stream",
     "text": [
      "\n",
      "\n",
      "\n",
      "\n",
      "6it [11:42, 105.65s/it]\u001b[A\u001b[A\u001b[A\u001b[A"
     ]
    },
    {
     "name": "stdout",
     "output_type": "stream",
     "text": [
      "[(72, 101), (72, 105), (72, 164), (72, 233), (72, 253), (72, 306), (72, 334), (72, 343), (72, 362), (72, 368), (72, 439), (72, 460), (72, 461), (72, 469), (72, 548), (72, 551), (72, 586), (73, 76), (73, 106), (73, 122), (73, 157), (73, 164), (73, 186), (73, 201), (73, 225), (73, 253), (73, 265), (73, 343), (73, 397), (73, 469), (73, 475), (73, 504), (73, 536), (73, 554), (73, 569), (73, 629), (73, 634), (74, 124), (74, 127), (74, 163), (74, 168), (74, 192), (74, 196), (74, 244), (74, 251), (74, 277), (74, 335), (74, 352), (74, 530), (74, 560), (74, 612), (76, 85), (76, 93), (76, 96), (76, 157), (76, 175), (76, 186), (76, 225), (76, 241), (76, 253), (76, 265), (76, 266), (76, 326), (76, 343), (76, 397), (76, 427), (76, 475), (76, 500), (76, 536), (76, 554), (76, 569), (76, 597), (76, 599), (76, 610), (76, 629)]\n",
      "75\n"
     ]
    },
    {
     "name": "stderr",
     "output_type": "stream",
     "text": [
      "/Users/brucemah/miniconda3/lib/python3.6/site-packages/perses-0.1-py3.6.egg/perses/rjmc/topology_proposal.py:2784: RuntimeWarning: invalid value encountered in true_divide\n",
      "  probability_matrix[i, :] /= row_sum\n",
      "/Users/brucemah/miniconda3/lib/python3.6/site-packages/perses-0.1-py3.6.egg/perses/rjmc/topology_proposal.py:2784: RuntimeWarning: invalid value encountered in true_divide\n",
      "  probability_matrix[i, :] /= row_sum\n",
      "/Users/brucemah/miniconda3/lib/python3.6/site-packages/perses-0.1-py3.6.egg/perses/rjmc/topology_proposal.py:2784: RuntimeWarning: invalid value encountered in true_divide\n",
      "  probability_matrix[i, :] /= row_sum\n",
      "/Users/brucemah/miniconda3/lib/python3.6/site-packages/perses-0.1-py3.6.egg/perses/rjmc/topology_proposal.py:2784: RuntimeWarning: invalid value encountered in true_divide\n",
      "  probability_matrix[i, :] /= row_sum\n",
      "/Users/brucemah/miniconda3/lib/python3.6/site-packages/perses-0.1-py3.6.egg/perses/rjmc/topology_proposal.py:2784: RuntimeWarning: invalid value encountered in true_divide\n",
      "  probability_matrix[i, :] /= row_sum\n",
      "/Users/brucemah/miniconda3/lib/python3.6/site-packages/perses-0.1-py3.6.egg/perses/rjmc/topology_proposal.py:2784: RuntimeWarning: invalid value encountered in true_divide\n",
      "  probability_matrix[i, :] /= row_sum\n",
      "/Users/brucemah/miniconda3/lib/python3.6/site-packages/perses-0.1-py3.6.egg/perses/rjmc/topology_proposal.py:2784: RuntimeWarning: invalid value encountered in true_divide\n",
      "  probability_matrix[i, :] /= row_sum\n",
      "/Users/brucemah/miniconda3/lib/python3.6/site-packages/perses-0.1-py3.6.egg/perses/rjmc/topology_proposal.py:2784: RuntimeWarning: invalid value encountered in true_divide\n",
      "  probability_matrix[i, :] /= row_sum\n",
      "/Users/brucemah/miniconda3/lib/python3.6/site-packages/perses-0.1-py3.6.egg/perses/rjmc/topology_proposal.py:2784: RuntimeWarning: invalid value encountered in true_divide\n",
      "  probability_matrix[i, :] /= row_sum\n",
      "/Users/brucemah/miniconda3/lib/python3.6/site-packages/perses-0.1-py3.6.egg/perses/rjmc/topology_proposal.py:2784: RuntimeWarning: invalid value encountered in true_divide\n",
      "  probability_matrix[i, :] /= row_sum\n",
      "/Users/brucemah/miniconda3/lib/python3.6/site-packages/perses-0.1-py3.6.egg/perses/rjmc/topology_proposal.py:2784: RuntimeWarning: invalid value encountered in true_divide\n",
      "  probability_matrix[i, :] /= row_sum\n",
      "/Users/brucemah/miniconda3/lib/python3.6/site-packages/perses-0.1-py3.6.egg/perses/rjmc/topology_proposal.py:2784: RuntimeWarning: invalid value encountered in true_divide\n",
      "  probability_matrix[i, :] /= row_sum\n",
      "/Users/brucemah/miniconda3/lib/python3.6/site-packages/perses-0.1-py3.6.egg/perses/rjmc/topology_proposal.py:2784: RuntimeWarning: invalid value encountered in true_divide\n",
      "  probability_matrix[i, :] /= row_sum\n"
     ]
    },
    {
     "name": "stdout",
     "output_type": "stream",
     "text": [
      "Match:  77 329\n"
     ]
    },
    {
     "name": "stderr",
     "output_type": "stream",
     "text": [
      "/Users/brucemah/miniconda3/lib/python3.6/site-packages/perses-0.1-py3.6.egg/perses/rjmc/topology_proposal.py:2784: RuntimeWarning: invalid value encountered in true_divide\n",
      "  probability_matrix[i, :] /= row_sum\n"
     ]
    },
    {
     "name": "stdout",
     "output_type": "stream",
     "text": [
      "Match:  77 360\n"
     ]
    },
    {
     "name": "stderr",
     "output_type": "stream",
     "text": [
      "/Users/brucemah/miniconda3/lib/python3.6/site-packages/perses-0.1-py3.6.egg/perses/rjmc/topology_proposal.py:2784: RuntimeWarning: invalid value encountered in true_divide\n",
      "  probability_matrix[i, :] /= row_sum\n",
      "/Users/brucemah/miniconda3/lib/python3.6/site-packages/perses-0.1-py3.6.egg/perses/rjmc/topology_proposal.py:2784: RuntimeWarning: invalid value encountered in true_divide\n",
      "  probability_matrix[i, :] /= row_sum\n",
      "/Users/brucemah/miniconda3/lib/python3.6/site-packages/perses-0.1-py3.6.egg/perses/rjmc/topology_proposal.py:2784: RuntimeWarning: invalid value encountered in true_divide\n",
      "  probability_matrix[i, :] /= row_sum\n",
      "/Users/brucemah/miniconda3/lib/python3.6/site-packages/perses-0.1-py3.6.egg/perses/rjmc/topology_proposal.py:2784: RuntimeWarning: invalid value encountered in true_divide\n",
      "  probability_matrix[i, :] /= row_sum\n",
      "/Users/brucemah/miniconda3/lib/python3.6/site-packages/perses-0.1-py3.6.egg/perses/rjmc/topology_proposal.py:2784: RuntimeWarning: invalid value encountered in true_divide\n",
      "  probability_matrix[i, :] /= row_sum\n",
      "/Users/brucemah/miniconda3/lib/python3.6/site-packages/perses-0.1-py3.6.egg/perses/rjmc/topology_proposal.py:2784: RuntimeWarning: invalid value encountered in true_divide\n",
      "  probability_matrix[i, :] /= row_sum\n",
      "/Users/brucemah/miniconda3/lib/python3.6/site-packages/perses-0.1-py3.6.egg/perses/rjmc/topology_proposal.py:2784: RuntimeWarning: invalid value encountered in true_divide\n",
      "  probability_matrix[i, :] /= row_sum\n",
      "/Users/brucemah/miniconda3/lib/python3.6/site-packages/perses-0.1-py3.6.egg/perses/rjmc/topology_proposal.py:2784: RuntimeWarning: invalid value encountered in true_divide\n",
      "  probability_matrix[i, :] /= row_sum\n",
      "/Users/brucemah/miniconda3/lib/python3.6/site-packages/perses-0.1-py3.6.egg/perses/rjmc/topology_proposal.py:2784: RuntimeWarning: invalid value encountered in true_divide\n",
      "  probability_matrix[i, :] /= row_sum\n",
      "/Users/brucemah/miniconda3/lib/python3.6/site-packages/perses-0.1-py3.6.egg/perses/rjmc/topology_proposal.py:2784: RuntimeWarning: invalid value encountered in true_divide\n",
      "  probability_matrix[i, :] /= row_sum\n",
      "/Users/brucemah/miniconda3/lib/python3.6/site-packages/perses-0.1-py3.6.egg/perses/rjmc/topology_proposal.py:2784: RuntimeWarning: invalid value encountered in true_divide\n",
      "  probability_matrix[i, :] /= row_sum\n",
      "/Users/brucemah/miniconda3/lib/python3.6/site-packages/perses-0.1-py3.6.egg/perses/rjmc/topology_proposal.py:2784: RuntimeWarning: invalid value encountered in true_divide\n",
      "  probability_matrix[i, :] /= row_sum\n"
     ]
    },
    {
     "name": "stdout",
     "output_type": "stream",
     "text": [
      "Match:  77 592\n"
     ]
    },
    {
     "name": "stderr",
     "output_type": "stream",
     "text": [
      "/Users/brucemah/miniconda3/lib/python3.6/site-packages/perses-0.1-py3.6.egg/perses/rjmc/topology_proposal.py:2784: RuntimeWarning: invalid value encountered in true_divide\n",
      "  probability_matrix[i, :] /= row_sum\n",
      "/Users/brucemah/miniconda3/lib/python3.6/site-packages/perses-0.1-py3.6.egg/perses/rjmc/topology_proposal.py:2784: RuntimeWarning: invalid value encountered in true_divide\n",
      "  probability_matrix[i, :] /= row_sum\n",
      "/Users/brucemah/miniconda3/lib/python3.6/site-packages/perses-0.1-py3.6.egg/perses/rjmc/topology_proposal.py:2784: RuntimeWarning: invalid value encountered in true_divide\n",
      "  probability_matrix[i, :] /= row_sum\n",
      "\n",
      "\n",
      "\n",
      "\n",
      "7it [11:52, 76.98s/it] \u001b[A\u001b[A\u001b[A\u001b[A"
     ]
    },
    {
     "name": "stdout",
     "output_type": "stream",
     "text": [
      "[(72, 101), (72, 105), (72, 164), (72, 233), (72, 253), (72, 306), (72, 334), (72, 343), (72, 362), (72, 368), (72, 439), (72, 460), (72, 461), (72, 469), (72, 548), (72, 551), (72, 586), (73, 76), (73, 106), (73, 122), (73, 157), (73, 164), (73, 186), (73, 201), (73, 225), (73, 253), (73, 265), (73, 343), (73, 397), (73, 469), (73, 475), (73, 504), (73, 536), (73, 554), (73, 569), (73, 629), (73, 634), (74, 124), (74, 127), (74, 163), (74, 168), (74, 192), (74, 196), (74, 244), (74, 251), (74, 277), (74, 335), (74, 352), (74, 530), (74, 560), (74, 612), (76, 85), (76, 93), (76, 96), (76, 157), (76, 175), (76, 186), (76, 225), (76, 241), (76, 253), (76, 265), (76, 266), (76, 326), (76, 343), (76, 397), (76, 427), (76, 475), (76, 500), (76, 536), (76, 554), (76, 569), (76, 597), (76, 599), (76, 610), (76, 629), (77, 329), (77, 360), (77, 592)]\n",
      "78\n"
     ]
    },
    {
     "name": "stderr",
     "output_type": "stream",
     "text": [
      "\n",
      "\n",
      "\n",
      "\n",
      "8it [12:41, 68.63s/it]\u001b[A\u001b[A\u001b[A\u001b[A"
     ]
    },
    {
     "name": "stdout",
     "output_type": "stream",
     "text": [
      "[(72, 101), (72, 105), (72, 164), (72, 233), (72, 253), (72, 306), (72, 334), (72, 343), (72, 362), (72, 368), (72, 439), (72, 460), (72, 461), (72, 469), (72, 548), (72, 551), (72, 586), (73, 76), (73, 106), (73, 122), (73, 157), (73, 164), (73, 186), (73, 201), (73, 225), (73, 253), (73, 265), (73, 343), (73, 397), (73, 469), (73, 475), (73, 504), (73, 536), (73, 554), (73, 569), (73, 629), (73, 634), (74, 124), (74, 127), (74, 163), (74, 168), (74, 192), (74, 196), (74, 244), (74, 251), (74, 277), (74, 335), (74, 352), (74, 530), (74, 560), (74, 612), (76, 85), (76, 93), (76, 96), (76, 157), (76, 175), (76, 186), (76, 225), (76, 241), (76, 253), (76, 265), (76, 266), (76, 326), (76, 343), (76, 397), (76, 427), (76, 475), (76, 500), (76, 536), (76, 554), (76, 569), (76, 597), (76, 599), (76, 610), (76, 629), (77, 329), (77, 360), (77, 592)]\n",
      "78\n"
     ]
    },
    {
     "name": "stderr",
     "output_type": "stream",
     "text": [
      "\n",
      "\n",
      "\n",
      "\n",
      "9it [13:29, 62.51s/it]\u001b[A\u001b[A\u001b[A\u001b[A"
     ]
    },
    {
     "name": "stdout",
     "output_type": "stream",
     "text": [
      "[(72, 101), (72, 105), (72, 164), (72, 233), (72, 253), (72, 306), (72, 334), (72, 343), (72, 362), (72, 368), (72, 439), (72, 460), (72, 461), (72, 469), (72, 548), (72, 551), (72, 586), (73, 76), (73, 106), (73, 122), (73, 157), (73, 164), (73, 186), (73, 201), (73, 225), (73, 253), (73, 265), (73, 343), (73, 397), (73, 469), (73, 475), (73, 504), (73, 536), (73, 554), (73, 569), (73, 629), (73, 634), (74, 124), (74, 127), (74, 163), (74, 168), (74, 192), (74, 196), (74, 244), (74, 251), (74, 277), (74, 335), (74, 352), (74, 530), (74, 560), (74, 612), (76, 85), (76, 93), (76, 96), (76, 157), (76, 175), (76, 186), (76, 225), (76, 241), (76, 253), (76, 265), (76, 266), (76, 326), (76, 343), (76, 397), (76, 427), (76, 475), (76, 500), (76, 536), (76, 554), (76, 569), (76, 597), (76, 599), (76, 610), (76, 629), (77, 329), (77, 360), (77, 592)]\n",
      "78\n"
     ]
    },
    {
     "name": "stderr",
     "output_type": "stream",
     "text": [
      "/Users/brucemah/miniconda3/lib/python3.6/site-packages/perses-0.1-py3.6.egg/perses/rjmc/topology_proposal.py:2784: RuntimeWarning: invalid value encountered in true_divide\n",
      "  probability_matrix[i, :] /= row_sum\n",
      "\n",
      "\n",
      "\n",
      "\n",
      "10it [14:28, 61.43s/it]\u001b[A\u001b[A\u001b[A\u001b[A"
     ]
    },
    {
     "name": "stdout",
     "output_type": "stream",
     "text": [
      "[(72, 101), (72, 105), (72, 164), (72, 233), (72, 253), (72, 306), (72, 334), (72, 343), (72, 362), (72, 368), (72, 439), (72, 460), (72, 461), (72, 469), (72, 548), (72, 551), (72, 586), (73, 76), (73, 106), (73, 122), (73, 157), (73, 164), (73, 186), (73, 201), (73, 225), (73, 253), (73, 265), (73, 343), (73, 397), (73, 469), (73, 475), (73, 504), (73, 536), (73, 554), (73, 569), (73, 629), (73, 634), (74, 124), (74, 127), (74, 163), (74, 168), (74, 192), (74, 196), (74, 244), (74, 251), (74, 277), (74, 335), (74, 352), (74, 530), (74, 560), (74, 612), (76, 85), (76, 93), (76, 96), (76, 157), (76, 175), (76, 186), (76, 225), (76, 241), (76, 253), (76, 265), (76, 266), (76, 326), (76, 343), (76, 397), (76, 427), (76, 475), (76, 500), (76, 536), (76, 554), (76, 569), (76, 597), (76, 599), (76, 610), (76, 629), (77, 329), (77, 360), (77, 592)]\n",
      "78\n",
      "Match:  81 523\n",
      "Match:  81 524\n",
      "Match:  81 543\n",
      "Match:  81 544\n"
     ]
    },
    {
     "name": "stderr",
     "output_type": "stream",
     "text": [
      "\n",
      "\n",
      "\n",
      "\n",
      "11it [15:54, 68.84s/it]\u001b[A\u001b[A\u001b[A\u001b[A"
     ]
    },
    {
     "name": "stdout",
     "output_type": "stream",
     "text": [
      "[(72, 101), (72, 105), (72, 164), (72, 233), (72, 253), (72, 306), (72, 334), (72, 343), (72, 362), (72, 368), (72, 439), (72, 460), (72, 461), (72, 469), (72, 548), (72, 551), (72, 586), (73, 76), (73, 106), (73, 122), (73, 157), (73, 164), (73, 186), (73, 201), (73, 225), (73, 253), (73, 265), (73, 343), (73, 397), (73, 469), (73, 475), (73, 504), (73, 536), (73, 554), (73, 569), (73, 629), (73, 634), (74, 124), (74, 127), (74, 163), (74, 168), (74, 192), (74, 196), (74, 244), (74, 251), (74, 277), (74, 335), (74, 352), (74, 530), (74, 560), (74, 612), (76, 85), (76, 93), (76, 96), (76, 157), (76, 175), (76, 186), (76, 225), (76, 241), (76, 253), (76, 265), (76, 266), (76, 326), (76, 343), (76, 397), (76, 427), (76, 475), (76, 500), (76, 536), (76, 554), (76, 569), (76, 597), (76, 599), (76, 610), (76, 629), (77, 329), (77, 360), (77, 592), (81, 523), (81, 524), (81, 543), (81, 544)]\n",
      "82\n",
      "Match:  82 88\n",
      "Match:  82 93\n",
      "Match:  82 100\n",
      "Match:  82 104\n",
      "Match:  82 112\n",
      "Match:  82 121\n",
      "Match:  82 178\n",
      "Match:  82 179\n",
      "Match:  82 241\n"
     ]
    },
    {
     "name": "stderr",
     "output_type": "stream",
     "text": [
      "/Users/brucemah/miniconda3/lib/python3.6/site-packages/perses-0.1-py3.6.egg/perses/rjmc/topology_proposal.py:2784: RuntimeWarning: invalid value encountered in true_divide\n",
      "  probability_matrix[i, :] /= row_sum\n"
     ]
    },
    {
     "name": "stdout",
     "output_type": "stream",
     "text": [
      "Match:  82 427\n"
     ]
    },
    {
     "name": "stderr",
     "output_type": "stream",
     "text": [
      "/Users/brucemah/miniconda3/lib/python3.6/site-packages/perses-0.1-py3.6.egg/perses/rjmc/topology_proposal.py:2784: RuntimeWarning: invalid value encountered in true_divide\n",
      "  probability_matrix[i, :] /= row_sum\n"
     ]
    },
    {
     "name": "stdout",
     "output_type": "stream",
     "text": [
      "Match:  82 487\n",
      "Match:  82 524\n",
      "Match:  82 537\n"
     ]
    },
    {
     "name": "stderr",
     "output_type": "stream",
     "text": [
      "\n",
      "\n",
      "\n",
      "\n",
      "12it [16:32, 59.56s/it]\u001b[A\u001b[A\u001b[A\u001b[A"
     ]
    },
    {
     "name": "stdout",
     "output_type": "stream",
     "text": [
      "Match:  82 639\n",
      "[(72, 101), (72, 105), (72, 164), (72, 233), (72, 253), (72, 306), (72, 334), (72, 343), (72, 362), (72, 368), (72, 439), (72, 460), (72, 461), (72, 469), (72, 548), (72, 551), (72, 586), (73, 76), (73, 106), (73, 122), (73, 157), (73, 164), (73, 186), (73, 201), (73, 225), (73, 253), (73, 265), (73, 343), (73, 397), (73, 469), (73, 475), (73, 504), (73, 536), (73, 554), (73, 569), (73, 629), (73, 634), (74, 124), (74, 127), (74, 163), (74, 168), (74, 192), (74, 196), (74, 244), (74, 251), (74, 277), (74, 335), (74, 352), (74, 530), (74, 560), (74, 612), (76, 85), (76, 93), (76, 96), (76, 157), (76, 175), (76, 186), (76, 225), (76, 241), (76, 253), (76, 265), (76, 266), (76, 326), (76, 343), (76, 397), (76, 427), (76, 475), (76, 500), (76, 536), (76, 554), (76, 569), (76, 597), (76, 599), (76, 610), (76, 629), (77, 329), (77, 360), (77, 592), (81, 523), (81, 524), (81, 543), (81, 544), (82, 88), (82, 93), (82, 100), (82, 104), (82, 112), (82, 121), (82, 178), (82, 179), (82, 241), (82, 427), (82, 487), (82, 524), (82, 537), (82, 639)]\n",
      "96\n"
     ]
    },
    {
     "name": "stderr",
     "output_type": "stream",
     "text": [
      "\n",
      "\n",
      "\n",
      "\n",
      "13it [18:25, 75.60s/it]\u001b[A\u001b[A\u001b[A\u001b[A"
     ]
    },
    {
     "name": "stdout",
     "output_type": "stream",
     "text": [
      "[(72, 101), (72, 105), (72, 164), (72, 233), (72, 253), (72, 306), (72, 334), (72, 343), (72, 362), (72, 368), (72, 439), (72, 460), (72, 461), (72, 469), (72, 548), (72, 551), (72, 586), (73, 76), (73, 106), (73, 122), (73, 157), (73, 164), (73, 186), (73, 201), (73, 225), (73, 253), (73, 265), (73, 343), (73, 397), (73, 469), (73, 475), (73, 504), (73, 536), (73, 554), (73, 569), (73, 629), (73, 634), (74, 124), (74, 127), (74, 163), (74, 168), (74, 192), (74, 196), (74, 244), (74, 251), (74, 277), (74, 335), (74, 352), (74, 530), (74, 560), (74, 612), (76, 85), (76, 93), (76, 96), (76, 157), (76, 175), (76, 186), (76, 225), (76, 241), (76, 253), (76, 265), (76, 266), (76, 326), (76, 343), (76, 397), (76, 427), (76, 475), (76, 500), (76, 536), (76, 554), (76, 569), (76, 597), (76, 599), (76, 610), (76, 629), (77, 329), (77, 360), (77, 592), (81, 523), (81, 524), (81, 543), (81, 544), (82, 88), (82, 93), (82, 100), (82, 104), (82, 112), (82, 121), (82, 178), (82, 179), (82, 241), (82, 427), (82, 487), (82, 524), (82, 537), (82, 639)]\n",
      "96\n",
      "Match:  84 103\n",
      "Match:  84 204\n",
      "Match:  84 210\n",
      "Match:  84 270\n",
      "Match:  84 294\n"
     ]
    },
    {
     "name": "stderr",
     "output_type": "stream",
     "text": [
      "/Users/brucemah/miniconda3/lib/python3.6/site-packages/perses-0.1-py3.6.egg/perses/rjmc/topology_proposal.py:2784: RuntimeWarning: invalid value encountered in true_divide\n",
      "  probability_matrix[i, :] /= row_sum\n",
      "/Users/brucemah/miniconda3/lib/python3.6/site-packages/perses-0.1-py3.6.egg/perses/rjmc/topology_proposal.py:2784: RuntimeWarning: invalid value encountered in true_divide\n",
      "  probability_matrix[i, :] /= row_sum\n"
     ]
    },
    {
     "name": "stdout",
     "output_type": "stream",
     "text": [
      "Match:  84 620\n"
     ]
    },
    {
     "name": "stderr",
     "output_type": "stream",
     "text": [
      "\n",
      "\n",
      "\n",
      "\n",
      "14it [20:49, 96.10s/it]\u001b[A\u001b[A\u001b[A\u001b[A"
     ]
    },
    {
     "name": "stdout",
     "output_type": "stream",
     "text": [
      "[(72, 101), (72, 105), (72, 164), (72, 233), (72, 253), (72, 306), (72, 334), (72, 343), (72, 362), (72, 368), (72, 439), (72, 460), (72, 461), (72, 469), (72, 548), (72, 551), (72, 586), (73, 76), (73, 106), (73, 122), (73, 157), (73, 164), (73, 186), (73, 201), (73, 225), (73, 253), (73, 265), (73, 343), (73, 397), (73, 469), (73, 475), (73, 504), (73, 536), (73, 554), (73, 569), (73, 629), (73, 634), (74, 124), (74, 127), (74, 163), (74, 168), (74, 192), (74, 196), (74, 244), (74, 251), (74, 277), (74, 335), (74, 352), (74, 530), (74, 560), (74, 612), (76, 85), (76, 93), (76, 96), (76, 157), (76, 175), (76, 186), (76, 225), (76, 241), (76, 253), (76, 265), (76, 266), (76, 326), (76, 343), (76, 397), (76, 427), (76, 475), (76, 500), (76, 536), (76, 554), (76, 569), (76, 597), (76, 599), (76, 610), (76, 629), (77, 329), (77, 360), (77, 592), (81, 523), (81, 524), (81, 543), (81, 544), (82, 88), (82, 93), (82, 100), (82, 104), (82, 112), (82, 121), (82, 178), (82, 179), (82, 241), (82, 427), (82, 487), (82, 524), (82, 537), (82, 639), (84, 103), (84, 204), (84, 210), (84, 270), (84, 294), (84, 620)]\n",
      "102\n",
      "Match:  85 93\n",
      "Match:  85 96\n",
      "Match:  85 175\n",
      "Match:  85 186\n",
      "Match:  85 241\n",
      "Match:  85 266\n",
      "Match:  85 295\n",
      "Match:  85 326\n",
      "Match:  85 397\n",
      "Match:  85 427\n",
      "Match:  85 459\n"
     ]
    },
    {
     "name": "stderr",
     "output_type": "stream",
     "text": [
      "/Users/brucemah/miniconda3/lib/python3.6/site-packages/perses-0.1-py3.6.egg/perses/rjmc/topology_proposal.py:2784: RuntimeWarning: invalid value encountered in true_divide\n",
      "  probability_matrix[i, :] /= row_sum\n"
     ]
    },
    {
     "name": "stdout",
     "output_type": "stream",
     "text": [
      "Match:  85 475\n",
      "Match:  85 500\n",
      "Match:  85 505\n",
      "Match:  85 597\n",
      "Match:  85 599\n",
      "Match:  85 610\n",
      "Match:  85 621\n"
     ]
    },
    {
     "name": "stderr",
     "output_type": "stream",
     "text": [
      "\n",
      "\n",
      "\n",
      "\n",
      "15it [21:47, 84.64s/it]\u001b[A\u001b[A\u001b[A\u001b[A"
     ]
    },
    {
     "name": "stdout",
     "output_type": "stream",
     "text": [
      "[(72, 101), (72, 105), (72, 164), (72, 233), (72, 253), (72, 306), (72, 334), (72, 343), (72, 362), (72, 368), (72, 439), (72, 460), (72, 461), (72, 469), (72, 548), (72, 551), (72, 586), (73, 76), (73, 106), (73, 122), (73, 157), (73, 164), (73, 186), (73, 201), (73, 225), (73, 253), (73, 265), (73, 343), (73, 397), (73, 469), (73, 475), (73, 504), (73, 536), (73, 554), (73, 569), (73, 629), (73, 634), (74, 124), (74, 127), (74, 163), (74, 168), (74, 192), (74, 196), (74, 244), (74, 251), (74, 277), (74, 335), (74, 352), (74, 530), (74, 560), (74, 612), (76, 85), (76, 93), (76, 96), (76, 157), (76, 175), (76, 186), (76, 225), (76, 241), (76, 253), (76, 265), (76, 266), (76, 326), (76, 343), (76, 397), (76, 427), (76, 475), (76, 500), (76, 536), (76, 554), (76, 569), (76, 597), (76, 599), (76, 610), (76, 629), (77, 329), (77, 360), (77, 592), (81, 523), (81, 524), (81, 543), (81, 544), (82, 88), (82, 93), (82, 100), (82, 104), (82, 112), (82, 121), (82, 178), (82, 179), (82, 241), (82, 427), (82, 487), (82, 524), (82, 537), (82, 639), (84, 103), (84, 204), (84, 210), (84, 270), (84, 294), (84, 620), (85, 93), (85, 96), (85, 175), (85, 186), (85, 241), (85, 266), (85, 295), (85, 326), (85, 397), (85, 427), (85, 459), (85, 475), (85, 500), (85, 505), (85, 597), (85, 599), (85, 610), (85, 621)]\n",
      "120\n",
      "Match:  86 191\n",
      "Match:  86 215\n",
      "Match:  86 299\n",
      "Match:  86 356\n"
     ]
    },
    {
     "name": "stderr",
     "output_type": "stream",
     "text": [
      "/Users/brucemah/miniconda3/lib/python3.6/site-packages/perses-0.1-py3.6.egg/perses/rjmc/topology_proposal.py:2784: RuntimeWarning: invalid value encountered in true_divide\n",
      "  probability_matrix[i, :] /= row_sum\n"
     ]
    },
    {
     "name": "stdout",
     "output_type": "stream",
     "text": [
      "Match:  86 452\n"
     ]
    },
    {
     "name": "stderr",
     "output_type": "stream",
     "text": [
      "\n",
      "\n",
      "\n",
      "\n",
      "16it [23:57, 98.29s/it]\u001b[A\u001b[A\u001b[A\u001b[A"
     ]
    },
    {
     "name": "stdout",
     "output_type": "stream",
     "text": [
      "[(72, 101), (72, 105), (72, 164), (72, 233), (72, 253), (72, 306), (72, 334), (72, 343), (72, 362), (72, 368), (72, 439), (72, 460), (72, 461), (72, 469), (72, 548), (72, 551), (72, 586), (73, 76), (73, 106), (73, 122), (73, 157), (73, 164), (73, 186), (73, 201), (73, 225), (73, 253), (73, 265), (73, 343), (73, 397), (73, 469), (73, 475), (73, 504), (73, 536), (73, 554), (73, 569), (73, 629), (73, 634), (74, 124), (74, 127), (74, 163), (74, 168), (74, 192), (74, 196), (74, 244), (74, 251), (74, 277), (74, 335), (74, 352), (74, 530), (74, 560), (74, 612), (76, 85), (76, 93), (76, 96), (76, 157), (76, 175), (76, 186), (76, 225), (76, 241), (76, 253), (76, 265), (76, 266), (76, 326), (76, 343), (76, 397), (76, 427), (76, 475), (76, 500), (76, 536), (76, 554), (76, 569), (76, 597), (76, 599), (76, 610), (76, 629), (77, 329), (77, 360), (77, 592), (81, 523), (81, 524), (81, 543), (81, 544), (82, 88), (82, 93), (82, 100), (82, 104), (82, 112), (82, 121), (82, 178), (82, 179), (82, 241), (82, 427), (82, 487), (82, 524), (82, 537), (82, 639), (84, 103), (84, 204), (84, 210), (84, 270), (84, 294), (84, 620), (85, 93), (85, 96), (85, 175), (85, 186), (85, 241), (85, 266), (85, 295), (85, 326), (85, 397), (85, 427), (85, 459), (85, 475), (85, 500), (85, 505), (85, 597), (85, 599), (85, 610), (85, 621), (86, 191), (86, 215), (86, 299), (86, 356), (86, 452)]\n",
      "125\n",
      "Match:  87 627\n"
     ]
    },
    {
     "name": "stderr",
     "output_type": "stream",
     "text": [
      "\n",
      "\n",
      "\n",
      "\n",
      "17it [25:12, 91.30s/it]\u001b[A\u001b[A\u001b[A\u001b[A"
     ]
    },
    {
     "name": "stdout",
     "output_type": "stream",
     "text": [
      "[(72, 101), (72, 105), (72, 164), (72, 233), (72, 253), (72, 306), (72, 334), (72, 343), (72, 362), (72, 368), (72, 439), (72, 460), (72, 461), (72, 469), (72, 548), (72, 551), (72, 586), (73, 76), (73, 106), (73, 122), (73, 157), (73, 164), (73, 186), (73, 201), (73, 225), (73, 253), (73, 265), (73, 343), (73, 397), (73, 469), (73, 475), (73, 504), (73, 536), (73, 554), (73, 569), (73, 629), (73, 634), (74, 124), (74, 127), (74, 163), (74, 168), (74, 192), (74, 196), (74, 244), (74, 251), (74, 277), (74, 335), (74, 352), (74, 530), (74, 560), (74, 612), (76, 85), (76, 93), (76, 96), (76, 157), (76, 175), (76, 186), (76, 225), (76, 241), (76, 253), (76, 265), (76, 266), (76, 326), (76, 343), (76, 397), (76, 427), (76, 475), (76, 500), (76, 536), (76, 554), (76, 569), (76, 597), (76, 599), (76, 610), (76, 629), (77, 329), (77, 360), (77, 592), (81, 523), (81, 524), (81, 543), (81, 544), (82, 88), (82, 93), (82, 100), (82, 104), (82, 112), (82, 121), (82, 178), (82, 179), (82, 241), (82, 427), (82, 487), (82, 524), (82, 537), (82, 639), (84, 103), (84, 204), (84, 210), (84, 270), (84, 294), (84, 620), (85, 93), (85, 96), (85, 175), (85, 186), (85, 241), (85, 266), (85, 295), (85, 326), (85, 397), (85, 427), (85, 459), (85, 475), (85, 500), (85, 505), (85, 597), (85, 599), (85, 610), (85, 621), (86, 191), (86, 215), (86, 299), (86, 356), (86, 452), (87, 627)]\n",
      "126\n",
      "Match:  88 93\n",
      "Match:  88 100\n",
      "Match:  88 104\n",
      "Match:  88 112\n",
      "Match:  88 121\n",
      "Match:  88 178\n",
      "Match:  88 268\n",
      "Match:  88 272\n",
      "Match:  88 329\n"
     ]
    },
    {
     "name": "stderr",
     "output_type": "stream",
     "text": [
      "/Users/brucemah/miniconda3/lib/python3.6/site-packages/perses-0.1-py3.6.egg/perses/rjmc/topology_proposal.py:2784: RuntimeWarning: invalid value encountered in true_divide\n",
      "  probability_matrix[i, :] /= row_sum\n"
     ]
    },
    {
     "name": "stdout",
     "output_type": "stream",
     "text": [
      "Match:  88 388\n",
      "Match:  88 431\n"
     ]
    },
    {
     "name": "stderr",
     "output_type": "stream",
     "text": [
      "/Users/brucemah/miniconda3/lib/python3.6/site-packages/perses-0.1-py3.6.egg/perses/rjmc/topology_proposal.py:2784: RuntimeWarning: invalid value encountered in true_divide\n",
      "  probability_matrix[i, :] /= row_sum\n"
     ]
    },
    {
     "name": "stdout",
     "output_type": "stream",
     "text": [
      "Match:  88 487\n",
      "Match:  88 537\n",
      "Match:  88 585\n",
      "Match:  88 591\n",
      "Match:  88 592\n"
     ]
    },
    {
     "name": "stderr",
     "output_type": "stream",
     "text": [
      "\n",
      "\n",
      "\n",
      "\n",
      "18it [25:32, 70.06s/it]\u001b[A\u001b[A\u001b[A\u001b[A"
     ]
    },
    {
     "name": "stdout",
     "output_type": "stream",
     "text": [
      "Match:  88 639\n",
      "[(72, 101), (72, 105), (72, 164), (72, 233), (72, 253), (72, 306), (72, 334), (72, 343), (72, 362), (72, 368), (72, 439), (72, 460), (72, 461), (72, 469), (72, 548), (72, 551), (72, 586), (73, 76), (73, 106), (73, 122), (73, 157), (73, 164), (73, 186), (73, 201), (73, 225), (73, 253), (73, 265), (73, 343), (73, 397), (73, 469), (73, 475), (73, 504), (73, 536), (73, 554), (73, 569), (73, 629), (73, 634), (74, 124), (74, 127), (74, 163), (74, 168), (74, 192), (74, 196), (74, 244), (74, 251), (74, 277), (74, 335), (74, 352), (74, 530), (74, 560), (74, 612), (76, 85), (76, 93), (76, 96), (76, 157), (76, 175), (76, 186), (76, 225), (76, 241), (76, 253), (76, 265), (76, 266), (76, 326), (76, 343), (76, 397), (76, 427), (76, 475), (76, 500), (76, 536), (76, 554), (76, 569), (76, 597), (76, 599), (76, 610), (76, 629), (77, 329), (77, 360), (77, 592), (81, 523), (81, 524), (81, 543), (81, 544), (82, 88), (82, 93), (82, 100), (82, 104), (82, 112), (82, 121), (82, 178), (82, 179), (82, 241), (82, 427), (82, 487), (82, 524), (82, 537), (82, 639), (84, 103), (84, 204), (84, 210), (84, 270), (84, 294), (84, 620), (85, 93), (85, 96), (85, 175), (85, 186), (85, 241), (85, 266), (85, 295), (85, 326), (85, 397), (85, 427), (85, 459), (85, 475), (85, 500), (85, 505), (85, 597), (85, 599), (85, 610), (85, 621), (86, 191), (86, 215), (86, 299), (86, 356), (86, 452), (87, 627), (88, 93), (88, 100), (88, 104), (88, 112), (88, 121), (88, 178), (88, 268), (88, 272), (88, 329), (88, 388), (88, 431), (88, 487), (88, 537), (88, 585), (88, 591), (88, 592), (88, 639)]\n",
      "143\n"
     ]
    },
    {
     "name": "stderr",
     "output_type": "stream",
     "text": [
      "/Users/brucemah/miniconda3/lib/python3.6/site-packages/perses-0.1-py3.6.egg/perses/rjmc/topology_proposal.py:2784: RuntimeWarning: invalid value encountered in true_divide\n",
      "  probability_matrix[i, :] /= row_sum\n",
      "\n",
      "\n",
      "\n",
      "\n",
      "19it [27:30, 84.42s/it]\u001b[A\u001b[A\u001b[A\u001b[A"
     ]
    },
    {
     "name": "stdout",
     "output_type": "stream",
     "text": [
      "[(72, 101), (72, 105), (72, 164), (72, 233), (72, 253), (72, 306), (72, 334), (72, 343), (72, 362), (72, 368), (72, 439), (72, 460), (72, 461), (72, 469), (72, 548), (72, 551), (72, 586), (73, 76), (73, 106), (73, 122), (73, 157), (73, 164), (73, 186), (73, 201), (73, 225), (73, 253), (73, 265), (73, 343), (73, 397), (73, 469), (73, 475), (73, 504), (73, 536), (73, 554), (73, 569), (73, 629), (73, 634), (74, 124), (74, 127), (74, 163), (74, 168), (74, 192), (74, 196), (74, 244), (74, 251), (74, 277), (74, 335), (74, 352), (74, 530), (74, 560), (74, 612), (76, 85), (76, 93), (76, 96), (76, 157), (76, 175), (76, 186), (76, 225), (76, 241), (76, 253), (76, 265), (76, 266), (76, 326), (76, 343), (76, 397), (76, 427), (76, 475), (76, 500), (76, 536), (76, 554), (76, 569), (76, 597), (76, 599), (76, 610), (76, 629), (77, 329), (77, 360), (77, 592), (81, 523), (81, 524), (81, 543), (81, 544), (82, 88), (82, 93), (82, 100), (82, 104), (82, 112), (82, 121), (82, 178), (82, 179), (82, 241), (82, 427), (82, 487), (82, 524), (82, 537), (82, 639), (84, 103), (84, 204), (84, 210), (84, 270), (84, 294), (84, 620), (85, 93), (85, 96), (85, 175), (85, 186), (85, 241), (85, 266), (85, 295), (85, 326), (85, 397), (85, 427), (85, 459), (85, 475), (85, 500), (85, 505), (85, 597), (85, 599), (85, 610), (85, 621), (86, 191), (86, 215), (86, 299), (86, 356), (86, 452), (87, 627), (88, 93), (88, 100), (88, 104), (88, 112), (88, 121), (88, 178), (88, 268), (88, 272), (88, 329), (88, 388), (88, 431), (88, 487), (88, 537), (88, 585), (88, 591), (88, 592), (88, 639)]\n",
      "143\n"
     ]
    },
    {
     "name": "stderr",
     "output_type": "stream",
     "text": [
      "/Users/brucemah/miniconda3/lib/python3.6/site-packages/perses-0.1-py3.6.egg/perses/rjmc/topology_proposal.py:2784: RuntimeWarning: invalid value encountered in true_divide\n",
      "  probability_matrix[i, :] /= row_sum\n",
      "\n",
      "\n",
      "\n",
      "\n",
      "20it [29:45, 99.58s/it]\u001b[A\u001b[A\u001b[A\u001b[A"
     ]
    },
    {
     "name": "stdout",
     "output_type": "stream",
     "text": [
      "[(72, 101), (72, 105), (72, 164), (72, 233), (72, 253), (72, 306), (72, 334), (72, 343), (72, 362), (72, 368), (72, 439), (72, 460), (72, 461), (72, 469), (72, 548), (72, 551), (72, 586), (73, 76), (73, 106), (73, 122), (73, 157), (73, 164), (73, 186), (73, 201), (73, 225), (73, 253), (73, 265), (73, 343), (73, 397), (73, 469), (73, 475), (73, 504), (73, 536), (73, 554), (73, 569), (73, 629), (73, 634), (74, 124), (74, 127), (74, 163), (74, 168), (74, 192), (74, 196), (74, 244), (74, 251), (74, 277), (74, 335), (74, 352), (74, 530), (74, 560), (74, 612), (76, 85), (76, 93), (76, 96), (76, 157), (76, 175), (76, 186), (76, 225), (76, 241), (76, 253), (76, 265), (76, 266), (76, 326), (76, 343), (76, 397), (76, 427), (76, 475), (76, 500), (76, 536), (76, 554), (76, 569), (76, 597), (76, 599), (76, 610), (76, 629), (77, 329), (77, 360), (77, 592), (81, 523), (81, 524), (81, 543), (81, 544), (82, 88), (82, 93), (82, 100), (82, 104), (82, 112), (82, 121), (82, 178), (82, 179), (82, 241), (82, 427), (82, 487), (82, 524), (82, 537), (82, 639), (84, 103), (84, 204), (84, 210), (84, 270), (84, 294), (84, 620), (85, 93), (85, 96), (85, 175), (85, 186), (85, 241), (85, 266), (85, 295), (85, 326), (85, 397), (85, 427), (85, 459), (85, 475), (85, 500), (85, 505), (85, 597), (85, 599), (85, 610), (85, 621), (86, 191), (86, 215), (86, 299), (86, 356), (86, 452), (87, 627), (88, 93), (88, 100), (88, 104), (88, 112), (88, 121), (88, 178), (88, 268), (88, 272), (88, 329), (88, 388), (88, 431), (88, 487), (88, 537), (88, 585), (88, 591), (88, 592), (88, 639)]\n",
      "143\n",
      "Match:  91 312\n"
     ]
    },
    {
     "name": "stderr",
     "output_type": "stream",
     "text": [
      "/Users/brucemah/miniconda3/lib/python3.6/site-packages/perses-0.1-py3.6.egg/perses/rjmc/topology_proposal.py:2784: RuntimeWarning: invalid value encountered in true_divide\n",
      "  probability_matrix[i, :] /= row_sum\n"
     ]
    },
    {
     "name": "stdout",
     "output_type": "stream",
     "text": [
      "Match:  91 555\n",
      "Match:  91 593\n"
     ]
    },
    {
     "name": "stderr",
     "output_type": "stream",
     "text": [
      "\n",
      "\n",
      "\n",
      "\n",
      "21it [30:40, 86.07s/it]\u001b[A\u001b[A\u001b[A\u001b[A"
     ]
    },
    {
     "name": "stdout",
     "output_type": "stream",
     "text": [
      "[(72, 101), (72, 105), (72, 164), (72, 233), (72, 253), (72, 306), (72, 334), (72, 343), (72, 362), (72, 368), (72, 439), (72, 460), (72, 461), (72, 469), (72, 548), (72, 551), (72, 586), (73, 76), (73, 106), (73, 122), (73, 157), (73, 164), (73, 186), (73, 201), (73, 225), (73, 253), (73, 265), (73, 343), (73, 397), (73, 469), (73, 475), (73, 504), (73, 536), (73, 554), (73, 569), (73, 629), (73, 634), (74, 124), (74, 127), (74, 163), (74, 168), (74, 192), (74, 196), (74, 244), (74, 251), (74, 277), (74, 335), (74, 352), (74, 530), (74, 560), (74, 612), (76, 85), (76, 93), (76, 96), (76, 157), (76, 175), (76, 186), (76, 225), (76, 241), (76, 253), (76, 265), (76, 266), (76, 326), (76, 343), (76, 397), (76, 427), (76, 475), (76, 500), (76, 536), (76, 554), (76, 569), (76, 597), (76, 599), (76, 610), (76, 629), (77, 329), (77, 360), (77, 592), (81, 523), (81, 524), (81, 543), (81, 544), (82, 88), (82, 93), (82, 100), (82, 104), (82, 112), (82, 121), (82, 178), (82, 179), (82, 241), (82, 427), (82, 487), (82, 524), (82, 537), (82, 639), (84, 103), (84, 204), (84, 210), (84, 270), (84, 294), (84, 620), (85, 93), (85, 96), (85, 175), (85, 186), (85, 241), (85, 266), (85, 295), (85, 326), (85, 397), (85, 427), (85, 459), (85, 475), (85, 500), (85, 505), (85, 597), (85, 599), (85, 610), (85, 621), (86, 191), (86, 215), (86, 299), (86, 356), (86, 452), (87, 627), (88, 93), (88, 100), (88, 104), (88, 112), (88, 121), (88, 178), (88, 268), (88, 272), (88, 329), (88, 388), (88, 431), (88, 487), (88, 537), (88, 585), (88, 591), (88, 592), (88, 639), (91, 312), (91, 555), (91, 593)]\n",
      "146\n",
      "Match:  92 168\n",
      "Match:  92 182\n",
      "Match:  92 212\n",
      "Match:  92 251\n",
      "Match:  92 276\n",
      "Match:  92 304\n"
     ]
    },
    {
     "name": "stderr",
     "output_type": "stream",
     "text": [
      "/Users/brucemah/miniconda3/lib/python3.6/site-packages/perses-0.1-py3.6.egg/perses/rjmc/topology_proposal.py:2784: RuntimeWarning: invalid value encountered in true_divide\n",
      "  probability_matrix[i, :] /= row_sum\n"
     ]
    },
    {
     "name": "stdout",
     "output_type": "stream",
     "text": [
      "Match:  92 353\n"
     ]
    },
    {
     "name": "stderr",
     "output_type": "stream",
     "text": [
      "/Users/brucemah/miniconda3/lib/python3.6/site-packages/perses-0.1-py3.6.egg/perses/rjmc/topology_proposal.py:2784: RuntimeWarning: invalid value encountered in true_divide\n",
      "  probability_matrix[i, :] /= row_sum\n",
      "/Users/brucemah/miniconda3/lib/python3.6/site-packages/perses-0.1-py3.6.egg/perses/rjmc/topology_proposal.py:2784: RuntimeWarning: invalid value encountered in true_divide\n",
      "  probability_matrix[i, :] /= row_sum\n",
      "/Users/brucemah/miniconda3/lib/python3.6/site-packages/perses-0.1-py3.6.egg/perses/rjmc/topology_proposal.py:2784: RuntimeWarning: invalid value encountered in true_divide\n",
      "  probability_matrix[i, :] /= row_sum\n",
      "/Users/brucemah/miniconda3/lib/python3.6/site-packages/perses-0.1-py3.6.egg/perses/rjmc/topology_proposal.py:2784: RuntimeWarning: invalid value encountered in true_divide\n",
      "  probability_matrix[i, :] /= row_sum\n"
     ]
    },
    {
     "name": "stdout",
     "output_type": "stream",
     "text": [
      "Match:  92 458\n",
      "Match:  92 467\n",
      "Match:  92 472\n",
      "Match:  92 492\n",
      "Match:  92 494\n"
     ]
    },
    {
     "name": "stderr",
     "output_type": "stream",
     "text": [
      "/Users/brucemah/miniconda3/lib/python3.6/site-packages/perses-0.1-py3.6.egg/perses/rjmc/topology_proposal.py:2784: RuntimeWarning: invalid value encountered in true_divide\n",
      "  probability_matrix[i, :] /= row_sum\n"
     ]
    },
    {
     "name": "stdout",
     "output_type": "stream",
     "text": [
      "Match:  92 526\n",
      "Match:  92 552\n",
      "Match:  92 560\n",
      "Match:  92 571\n"
     ]
    },
    {
     "name": "stderr",
     "output_type": "stream",
     "text": [
      "\n",
      "\n",
      "\n",
      "\n",
      "22it [32:51, 99.74s/it]\u001b[A\u001b[A\u001b[A\u001b[A"
     ]
    },
    {
     "name": "stdout",
     "output_type": "stream",
     "text": [
      "[(72, 101), (72, 105), (72, 164), (72, 233), (72, 253), (72, 306), (72, 334), (72, 343), (72, 362), (72, 368), (72, 439), (72, 460), (72, 461), (72, 469), (72, 548), (72, 551), (72, 586), (73, 76), (73, 106), (73, 122), (73, 157), (73, 164), (73, 186), (73, 201), (73, 225), (73, 253), (73, 265), (73, 343), (73, 397), (73, 469), (73, 475), (73, 504), (73, 536), (73, 554), (73, 569), (73, 629), (73, 634), (74, 124), (74, 127), (74, 163), (74, 168), (74, 192), (74, 196), (74, 244), (74, 251), (74, 277), (74, 335), (74, 352), (74, 530), (74, 560), (74, 612), (76, 85), (76, 93), (76, 96), (76, 157), (76, 175), (76, 186), (76, 225), (76, 241), (76, 253), (76, 265), (76, 266), (76, 326), (76, 343), (76, 397), (76, 427), (76, 475), (76, 500), (76, 536), (76, 554), (76, 569), (76, 597), (76, 599), (76, 610), (76, 629), (77, 329), (77, 360), (77, 592), (81, 523), (81, 524), (81, 543), (81, 544), (82, 88), (82, 93), (82, 100), (82, 104), (82, 112), (82, 121), (82, 178), (82, 179), (82, 241), (82, 427), (82, 487), (82, 524), (82, 537), (82, 639), (84, 103), (84, 204), (84, 210), (84, 270), (84, 294), (84, 620), (85, 93), (85, 96), (85, 175), (85, 186), (85, 241), (85, 266), (85, 295), (85, 326), (85, 397), (85, 427), (85, 459), (85, 475), (85, 500), (85, 505), (85, 597), (85, 599), (85, 610), (85, 621), (86, 191), (86, 215), (86, 299), (86, 356), (86, 452), (87, 627), (88, 93), (88, 100), (88, 104), (88, 112), (88, 121), (88, 178), (88, 268), (88, 272), (88, 329), (88, 388), (88, 431), (88, 487), (88, 537), (88, 585), (88, 591), (88, 592), (88, 639), (91, 312), (91, 555), (91, 593), (92, 168), (92, 182), (92, 212), (92, 251), (92, 276), (92, 304), (92, 353), (92, 458), (92, 467), (92, 472), (92, 492), (92, 494), (92, 526), (92, 552), (92, 560), (92, 571)]\n",
      "162\n",
      "Match:  93 96\n",
      "Match:  93 104\n",
      "Match:  93 112\n",
      "Match:  93 121\n",
      "Match:  93 175\n",
      "Match:  93 178\n",
      "Match:  93 186\n",
      "Match:  93 241\n",
      "Match:  93 266\n",
      "Match:  93 326\n"
     ]
    },
    {
     "name": "stderr",
     "output_type": "stream",
     "text": [
      "/Users/brucemah/miniconda3/lib/python3.6/site-packages/perses-0.1-py3.6.egg/perses/rjmc/topology_proposal.py:2784: RuntimeWarning: invalid value encountered in true_divide\n",
      "  probability_matrix[i, :] /= row_sum\n"
     ]
    },
    {
     "name": "stdout",
     "output_type": "stream",
     "text": [
      "Match:  93 427\n"
     ]
    },
    {
     "name": "stderr",
     "output_type": "stream",
     "text": [
      "/Users/brucemah/miniconda3/lib/python3.6/site-packages/perses-0.1-py3.6.egg/perses/rjmc/topology_proposal.py:2784: RuntimeWarning: invalid value encountered in true_divide\n",
      "  probability_matrix[i, :] /= row_sum\n"
     ]
    },
    {
     "name": "stdout",
     "output_type": "stream",
     "text": [
      "Match:  93 475\n",
      "Match:  93 487\n",
      "Match:  93 500\n",
      "Match:  93 537\n",
      "Match:  93 597\n",
      "Match:  93 599\n",
      "Match:  93 610\n"
     ]
    },
    {
     "name": "stderr",
     "output_type": "stream",
     "text": [
      "\n",
      "\n",
      "\n",
      "\n",
      "23it [33:30, 81.35s/it]\u001b[A\u001b[A\u001b[A\u001b[A"
     ]
    },
    {
     "name": "stdout",
     "output_type": "stream",
     "text": [
      "Match:  93 639\n",
      "[(72, 101), (72, 105), (72, 164), (72, 233), (72, 253), (72, 306), (72, 334), (72, 343), (72, 362), (72, 368), (72, 439), (72, 460), (72, 461), (72, 469), (72, 548), (72, 551), (72, 586), (73, 76), (73, 106), (73, 122), (73, 157), (73, 164), (73, 186), (73, 201), (73, 225), (73, 253), (73, 265), (73, 343), (73, 397), (73, 469), (73, 475), (73, 504), (73, 536), (73, 554), (73, 569), (73, 629), (73, 634), (74, 124), (74, 127), (74, 163), (74, 168), (74, 192), (74, 196), (74, 244), (74, 251), (74, 277), (74, 335), (74, 352), (74, 530), (74, 560), (74, 612), (76, 85), (76, 93), (76, 96), (76, 157), (76, 175), (76, 186), (76, 225), (76, 241), (76, 253), (76, 265), (76, 266), (76, 326), (76, 343), (76, 397), (76, 427), (76, 475), (76, 500), (76, 536), (76, 554), (76, 569), (76, 597), (76, 599), (76, 610), (76, 629), (77, 329), (77, 360), (77, 592), (81, 523), (81, 524), (81, 543), (81, 544), (82, 88), (82, 93), (82, 100), (82, 104), (82, 112), (82, 121), (82, 178), (82, 179), (82, 241), (82, 427), (82, 487), (82, 524), (82, 537), (82, 639), (84, 103), (84, 204), (84, 210), (84, 270), (84, 294), (84, 620), (85, 93), (85, 96), (85, 175), (85, 186), (85, 241), (85, 266), (85, 295), (85, 326), (85, 397), (85, 427), (85, 459), (85, 475), (85, 500), (85, 505), (85, 597), (85, 599), (85, 610), (85, 621), (86, 191), (86, 215), (86, 299), (86, 356), (86, 452), (87, 627), (88, 93), (88, 100), (88, 104), (88, 112), (88, 121), (88, 178), (88, 268), (88, 272), (88, 329), (88, 388), (88, 431), (88, 487), (88, 537), (88, 585), (88, 591), (88, 592), (88, 639), (91, 312), (91, 555), (91, 593), (92, 168), (92, 182), (92, 212), (92, 251), (92, 276), (92, 304), (92, 353), (92, 458), (92, 467), (92, 472), (92, 492), (92, 494), (92, 526), (92, 552), (92, 560), (92, 571), (93, 96), (93, 104), (93, 112), (93, 121), (93, 175), (93, 178), (93, 186), (93, 241), (93, 266), (93, 326), (93, 427), (93, 475), (93, 487), (93, 500), (93, 537), (93, 597), (93, 599), (93, 610), (93, 639)]\n",
      "181\n"
     ]
    },
    {
     "ename": "KeyboardInterrupt",
     "evalue": "",
     "output_type": "error",
     "traceback": [
      "\u001b[0;31m---------------------------------------------------------------------------\u001b[0m",
      "\u001b[0;31mKeyboardInterrupt\u001b[0m                         Traceback (most recent call last)",
      "\u001b[0;32m<ipython-input-10-0addf2e98c90>\u001b[0m in \u001b[0;36m<module>\u001b[0;34m\u001b[0m\n\u001b[1;32m     21\u001b[0m         \u001b[0;32mif\u001b[0m \u001b[0mnp\u001b[0m\u001b[0;34m.\u001b[0m\u001b[0mabs\u001b[0m\u001b[0;34m(\u001b[0m\u001b[0mhb\u001b[0m \u001b[0;34m-\u001b[0m \u001b[0mha\u001b[0m\u001b[0;34m)\u001b[0m \u001b[0;34m>\u001b[0m \u001b[0;36m2\u001b[0m\u001b[0;34m*\u001b[0m\u001b[0mmax_unique\u001b[0m\u001b[0;34m:\u001b[0m \u001b[0;31m# cheap preliminary check to save time\u001b[0m\u001b[0;34m\u001b[0m\u001b[0;34m\u001b[0m\u001b[0m\n\u001b[1;32m     22\u001b[0m             \u001b[0;32mcontinue\u001b[0m\u001b[0;34m\u001b[0m\u001b[0;34m\u001b[0m\u001b[0m\n\u001b[0;32m---> 23\u001b[0;31m         \u001b[0m_\u001b[0m\u001b[0;34m,\u001b[0m \u001b[0m_\u001b[0m\u001b[0;34m,\u001b[0m \u001b[0mnew_topology\u001b[0m \u001b[0;34m=\u001b[0m \u001b[0mopeneye\u001b[0m\u001b[0;34m.\u001b[0m\u001b[0mOEMol_to_omm_ff\u001b[0m\u001b[0;34m(\u001b[0m\u001b[0mmolb\u001b[0m\u001b[0;34m)\u001b[0m\u001b[0;34m\u001b[0m\u001b[0;34m\u001b[0m\u001b[0m\n\u001b[0m\u001b[1;32m     24\u001b[0m         \u001b[0mproposal_engine\u001b[0m \u001b[0;34m=\u001b[0m \u001b[0mTwoMoleculeSetProposalEngine\u001b[0m\u001b[0;34m(\u001b[0m\u001b[0mmola\u001b[0m\u001b[0;34m,\u001b[0m \u001b[0mmolb\u001b[0m\u001b[0;34m,\u001b[0m \u001b[0msystem_generator\u001b[0m\u001b[0;34m)\u001b[0m\u001b[0;34m\u001b[0m\u001b[0;34m\u001b[0m\u001b[0m\n\u001b[1;32m     25\u001b[0m         \u001b[0mproposal\u001b[0m \u001b[0;34m=\u001b[0m \u001b[0mproposal_engine\u001b[0m\u001b[0;34m.\u001b[0m\u001b[0mpropose\u001b[0m\u001b[0;34m(\u001b[0m\u001b[0mold_system\u001b[0m\u001b[0;34m,\u001b[0m \u001b[0mold_topology\u001b[0m\u001b[0;34m)\u001b[0m\u001b[0;34m\u001b[0m\u001b[0;34m\u001b[0m\u001b[0m\n",
      "\u001b[0;32m~/miniconda3/lib/python3.6/site-packages/perses-0.1-py3.6.egg/perses/utils/openeye.py\u001b[0m in \u001b[0;36mOEMol_to_omm_ff\u001b[0;34m(molecule, data_filename)\u001b[0m\n\u001b[1;32m    124\u001b[0m     \u001b[0msystem_generator\u001b[0m \u001b[0;34m=\u001b[0m \u001b[0mtopology_proposal\u001b[0m\u001b[0;34m.\u001b[0m\u001b[0mSystemGenerator\u001b[0m\u001b[0;34m(\u001b[0m\u001b[0;34m[\u001b[0m\u001b[0mgaff_xml_filename\u001b[0m\u001b[0;34m]\u001b[0m\u001b[0;34m)\u001b[0m\u001b[0;34m\u001b[0m\u001b[0;34m\u001b[0m\u001b[0m\n\u001b[1;32m    125\u001b[0m     \u001b[0mtopology\u001b[0m \u001b[0;34m=\u001b[0m \u001b[0mforcefield_generators\u001b[0m\u001b[0;34m.\u001b[0m\u001b[0mgenerateTopologyFromOEMol\u001b[0m\u001b[0;34m(\u001b[0m\u001b[0mmolecule\u001b[0m\u001b[0;34m)\u001b[0m\u001b[0;34m\u001b[0m\u001b[0;34m\u001b[0m\u001b[0m\n\u001b[0;32m--> 126\u001b[0;31m     \u001b[0msystem\u001b[0m \u001b[0;34m=\u001b[0m \u001b[0msystem_generator\u001b[0m\u001b[0;34m.\u001b[0m\u001b[0mbuild_system\u001b[0m\u001b[0;34m(\u001b[0m\u001b[0mtopology\u001b[0m\u001b[0;34m)\u001b[0m\u001b[0;34m\u001b[0m\u001b[0;34m\u001b[0m\u001b[0m\n\u001b[0m\u001b[1;32m    127\u001b[0m     \u001b[0mpositions\u001b[0m \u001b[0;34m=\u001b[0m \u001b[0mextractPositionsFromOEMol\u001b[0m\u001b[0;34m(\u001b[0m\u001b[0mmolecule\u001b[0m\u001b[0;34m)\u001b[0m\u001b[0;34m\u001b[0m\u001b[0;34m\u001b[0m\u001b[0m\n\u001b[1;32m    128\u001b[0m \u001b[0;34m\u001b[0m\u001b[0m\n",
      "\u001b[0;32m~/miniconda3/lib/python3.6/site-packages/perses-0.1-py3.6.egg/perses/rjmc/topology_proposal.py\u001b[0m in \u001b[0;36mbuild_system\u001b[0;34m(self, new_topology, check_system)\u001b[0m\n\u001b[1;32m   2045\u001b[0m         \"\"\"\n\u001b[1;32m   2046\u001b[0m         \u001b[0;31m# TODO: Write some debug info if exception is raised\u001b[0m\u001b[0;34m\u001b[0m\u001b[0;34m\u001b[0m\u001b[0;34m\u001b[0m\u001b[0m\n\u001b[0;32m-> 2047\u001b[0;31m         \u001b[0msystem\u001b[0m \u001b[0;34m=\u001b[0m \u001b[0mself\u001b[0m\u001b[0;34m.\u001b[0m\u001b[0m_forcefield\u001b[0m\u001b[0;34m.\u001b[0m\u001b[0mcreateSystem\u001b[0m\u001b[0;34m(\u001b[0m\u001b[0mnew_topology\u001b[0m\u001b[0;34m,\u001b[0m \u001b[0;34m**\u001b[0m\u001b[0mself\u001b[0m\u001b[0;34m.\u001b[0m\u001b[0m_forcefield_kwargs\u001b[0m\u001b[0;34m)\u001b[0m\u001b[0;34m\u001b[0m\u001b[0;34m\u001b[0m\u001b[0m\n\u001b[0m\u001b[1;32m   2048\u001b[0m \u001b[0;34m\u001b[0m\u001b[0m\n\u001b[1;32m   2049\u001b[0m         \u001b[0;31m# Turn off various force classes for debugging if requested\u001b[0m\u001b[0;34m\u001b[0m\u001b[0;34m\u001b[0m\u001b[0;34m\u001b[0m\u001b[0m\n",
      "\u001b[0;32m~/miniconda3/lib/python3.6/site-packages/simtk/openmm/app/forcefield.py\u001b[0m in \u001b[0;36mcreateSystem\u001b[0;34m(self, topology, nonbondedMethod, nonbondedCutoff, constraints, rigidWater, removeCMMotion, hydrogenMass, residueTemplates, ignoreExternalBonds, switchDistance, flexibleConstraints, **args)\u001b[0m\n\u001b[1;32m   1127\u001b[0m                 \u001b[0;31m# Try all generators.\u001b[0m\u001b[0;34m\u001b[0m\u001b[0;34m\u001b[0m\u001b[0;34m\u001b[0m\u001b[0m\n\u001b[1;32m   1128\u001b[0m                 \u001b[0;32mfor\u001b[0m \u001b[0mgenerator\u001b[0m \u001b[0;32min\u001b[0m \u001b[0mself\u001b[0m\u001b[0;34m.\u001b[0m\u001b[0m_templateGenerators\u001b[0m\u001b[0;34m:\u001b[0m\u001b[0;34m\u001b[0m\u001b[0;34m\u001b[0m\u001b[0m\n\u001b[0;32m-> 1129\u001b[0;31m                     \u001b[0;32mif\u001b[0m \u001b[0mgenerator\u001b[0m\u001b[0;34m(\u001b[0m\u001b[0mself\u001b[0m\u001b[0;34m,\u001b[0m \u001b[0mres\u001b[0m\u001b[0;34m)\u001b[0m\u001b[0;34m:\u001b[0m\u001b[0;34m\u001b[0m\u001b[0;34m\u001b[0m\u001b[0m\n\u001b[0m\u001b[1;32m   1130\u001b[0m                         \u001b[0;31m# This generator has registered a new residue template that should match.\u001b[0m\u001b[0;34m\u001b[0m\u001b[0;34m\u001b[0m\u001b[0;34m\u001b[0m\u001b[0m\n\u001b[1;32m   1131\u001b[0m                         \u001b[0;34m[\u001b[0m\u001b[0mtemplate\u001b[0m\u001b[0;34m,\u001b[0m \u001b[0mmatches\u001b[0m\u001b[0;34m]\u001b[0m \u001b[0;34m=\u001b[0m \u001b[0mself\u001b[0m\u001b[0;34m.\u001b[0m\u001b[0m_getResidueTemplateMatches\u001b[0m\u001b[0;34m(\u001b[0m\u001b[0mres\u001b[0m\u001b[0;34m,\u001b[0m \u001b[0mbondedToAtom\u001b[0m\u001b[0;34m,\u001b[0m \u001b[0mignoreExternalBonds\u001b[0m\u001b[0;34m=\u001b[0m\u001b[0mignoreExternalBonds\u001b[0m\u001b[0;34m)\u001b[0m\u001b[0;34m\u001b[0m\u001b[0;34m\u001b[0m\u001b[0m\n",
      "\u001b[0;32m~/miniconda3/lib/python3.6/site-packages/openmoltools-0.9.0.dev0-py3.6.egg/openmoltools/forcefield_generators.py\u001b[0m in \u001b[0;36mgaffTemplateGenerator\u001b[0;34m(forcefield, residue, structure)\u001b[0m\n\u001b[1;32m    509\u001b[0m \u001b[0;34m\u001b[0m\u001b[0m\n\u001b[1;32m    510\u001b[0m     \u001b[0;31m# Generate template and parameters.\u001b[0m\u001b[0;34m\u001b[0m\u001b[0;34m\u001b[0m\u001b[0;34m\u001b[0m\u001b[0m\n\u001b[0;32m--> 511\u001b[0;31m     \u001b[0;34m[\u001b[0m\u001b[0mtemplate\u001b[0m\u001b[0;34m,\u001b[0m \u001b[0mffxml\u001b[0m\u001b[0;34m]\u001b[0m \u001b[0;34m=\u001b[0m \u001b[0mgenerateResidueTemplate\u001b[0m\u001b[0;34m(\u001b[0m\u001b[0mmolecule\u001b[0m\u001b[0;34m)\u001b[0m\u001b[0;34m\u001b[0m\u001b[0;34m\u001b[0m\u001b[0m\n\u001b[0m\u001b[1;32m    512\u001b[0m \u001b[0;34m\u001b[0m\u001b[0m\n\u001b[1;32m    513\u001b[0m     \u001b[0;31m# Register the template.\u001b[0m\u001b[0;34m\u001b[0m\u001b[0;34m\u001b[0m\u001b[0;34m\u001b[0m\u001b[0m\n",
      "\u001b[0;32m~/miniconda3/lib/python3.6/site-packages/openmoltools-0.9.0.dev0-py3.6.egg/openmoltools/forcefield_generators.py\u001b[0m in \u001b[0;36mgenerateResidueTemplate\u001b[0;34m(molecule, residue_atoms, normalize, gaff_version)\u001b[0m\n\u001b[1;32m    275\u001b[0m \u001b[0;34m\u001b[0m\u001b[0m\n\u001b[1;32m    276\u001b[0m     \u001b[0;31m# Generate canonical AM1-BCC charges and a reference conformation.\u001b[0m\u001b[0;34m\u001b[0m\u001b[0;34m\u001b[0m\u001b[0;34m\u001b[0m\u001b[0m\n\u001b[0;32m--> 277\u001b[0;31m     \u001b[0mmolecule\u001b[0m \u001b[0;34m=\u001b[0m \u001b[0mget_charges\u001b[0m\u001b[0;34m(\u001b[0m\u001b[0mmolecule\u001b[0m\u001b[0;34m,\u001b[0m \u001b[0mstrictStereo\u001b[0m\u001b[0;34m=\u001b[0m\u001b[0;32mFalse\u001b[0m\u001b[0;34m,\u001b[0m \u001b[0mkeep_confs\u001b[0m\u001b[0;34m=\u001b[0m\u001b[0;36m1\u001b[0m\u001b[0;34m,\u001b[0m \u001b[0mnormalize\u001b[0m\u001b[0;34m=\u001b[0m\u001b[0mnormalize\u001b[0m\u001b[0;34m)\u001b[0m\u001b[0;34m\u001b[0m\u001b[0;34m\u001b[0m\u001b[0m\n\u001b[0m\u001b[1;32m    278\u001b[0m \u001b[0;34m\u001b[0m\u001b[0m\n\u001b[1;32m    279\u001b[0m     \u001b[0;31m# DEBUG: This may be necessary.\u001b[0m\u001b[0;34m\u001b[0m\u001b[0;34m\u001b[0m\u001b[0;34m\u001b[0m\u001b[0m\n",
      "\u001b[0;32m~/miniconda3/lib/python3.6/site-packages/openmoltools-0.9.0.dev0-py3.6.egg/openmoltools/openeye.py\u001b[0m in \u001b[0;36mget_charges\u001b[0;34m(molecule, max_confs, strictStereo, normalize, keep_confs, legacy)\u001b[0m\n\u001b[1;32m     73\u001b[0m     \u001b[0;32melse\u001b[0m\u001b[0;34m:\u001b[0m\u001b[0;34m\u001b[0m\u001b[0;34m\u001b[0m\u001b[0m\n\u001b[1;32m     74\u001b[0m         \u001b[0;31m# AM1BCCSym recommended by Chris Bayly to KAB+JDC, Oct. 20 2014.\u001b[0m\u001b[0;34m\u001b[0m\u001b[0;34m\u001b[0m\u001b[0;34m\u001b[0m\u001b[0m\n\u001b[0;32m---> 75\u001b[0;31m         \u001b[0mstatus\u001b[0m \u001b[0;34m=\u001b[0m \u001b[0moequacpac\u001b[0m\u001b[0;34m.\u001b[0m\u001b[0mOEAssignPartialCharges\u001b[0m\u001b[0;34m(\u001b[0m\u001b[0mcharged_copy\u001b[0m\u001b[0;34m,\u001b[0m \u001b[0moequacpac\u001b[0m\u001b[0;34m.\u001b[0m\u001b[0mOECharges_AM1BCCSym\u001b[0m\u001b[0;34m)\u001b[0m\u001b[0;34m\u001b[0m\u001b[0;34m\u001b[0m\u001b[0m\n\u001b[0m\u001b[1;32m     76\u001b[0m         \u001b[0;32mif\u001b[0m \u001b[0;32mnot\u001b[0m \u001b[0mstatus\u001b[0m\u001b[0;34m:\u001b[0m \u001b[0;32mraise\u001b[0m\u001b[0;34m(\u001b[0m\u001b[0mRuntimeError\u001b[0m\u001b[0;34m(\u001b[0m\u001b[0;34m\"OEAssignPartialCharges returned error code %d\"\u001b[0m \u001b[0;34m%\u001b[0m \u001b[0mstatus\u001b[0m\u001b[0;34m)\u001b[0m\u001b[0;34m)\u001b[0m\u001b[0;34m\u001b[0m\u001b[0;34m\u001b[0m\u001b[0m\n\u001b[1;32m     77\u001b[0m \u001b[0;34m\u001b[0m\u001b[0m\n",
      "\u001b[0;32m~/miniconda3/lib/python3.6/site-packages/openeye/oequacpac.py\u001b[0m in \u001b[0;36mOEAssignPartialCharges\u001b[0;34m(*args)\u001b[0m\n\u001b[1;32m   1563\u001b[0m     \u001b[0mOEAssignPartialCharges\u001b[0m\u001b[0;34m(\u001b[0m\u001b[0mOEMCMolBase\u001b[0m \u001b[0mmol\u001b[0m\u001b[0;34m)\u001b[0m \u001b[0;34m->\u001b[0m \u001b[0mbool\u001b[0m\u001b[0;34m\u001b[0m\u001b[0;34m\u001b[0m\u001b[0m\n\u001b[1;32m   1564\u001b[0m     \"\"\"\n\u001b[0;32m-> 1565\u001b[0;31m     \u001b[0;32mreturn\u001b[0m \u001b[0m_oequacpac\u001b[0m\u001b[0;34m.\u001b[0m\u001b[0mOEAssignPartialCharges\u001b[0m\u001b[0;34m(\u001b[0m\u001b[0;34m*\u001b[0m\u001b[0margs\u001b[0m\u001b[0;34m)\u001b[0m\u001b[0;34m\u001b[0m\u001b[0;34m\u001b[0m\u001b[0m\n\u001b[0m\u001b[1;32m   1566\u001b[0m \u001b[0;34m\u001b[0m\u001b[0m\n\u001b[1;32m   1567\u001b[0m \u001b[0m_oequacpac\u001b[0m\u001b[0;34m.\u001b[0m\u001b[0mOE_OEQUACPAC_VERSION_swigconstant\u001b[0m\u001b[0;34m(\u001b[0m\u001b[0m_oequacpac\u001b[0m\u001b[0;34m)\u001b[0m\u001b[0;34m\u001b[0m\u001b[0;34m\u001b[0m\u001b[0m\n",
      "\u001b[0;31mKeyboardInterrupt\u001b[0m: "
     ]
    }
   ],
   "source": [
    "def count_unique_heavy(topology,unique_ids):\n",
    "    num_heavy = 0\n",
    "    for atom in topology.atoms():\n",
    "        if atom.index in unique_ids:\n",
    "            if atom.element.name != 'hydrogen':\n",
    "                num_heavy += 1\n",
    "    return num_heavy\n",
    "\n",
    "max_unique = 1\n",
    "\n",
    "gaff_xml_filename = get_data_filename('data/gaff.xml')\n",
    "system_generator = topology_proposal.SystemGenerator([gaff_xml_filename])\n",
    "\n",
    "for a,mola in tqdm(enumerate(all_mols[71:],71)):\n",
    "    old_system, _, old_topology = openeye.OEMol_to_omm_ff(mola)\n",
    "    ha = oechem.OECount(mola, oechem.OEIsHeavy())\n",
    "    for b,molb in enumerate(all_mols):\n",
    "        if b <= a:\n",
    "            continue  \n",
    "        hb = oechem.OECount(molb, oechem.OEIsHeavy())\n",
    "        if np.abs(hb - ha) > 2*max_unique: # cheap preliminary check to save time\n",
    "            continue \n",
    "        _, _, new_topology = openeye.OEMol_to_omm_ff(molb)\n",
    "        proposal_engine = TwoMoleculeSetProposalEngine(mola, molb, system_generator)\n",
    "        proposal = proposal_engine.propose(old_system, old_topology)            \n",
    "        if count_unique_heavy(old_topology,proposal.unique_old_atoms) > max_unique:\n",
    "            continue\n",
    "        elif count_unique_heavy(new_topology,proposal.unique_new_atoms) > max_unique:\n",
    "            continue\n",
    "        else:\n",
    "            good_pairs.append((all_mols.index(mola), all_mols.index(molb)))\n",
    "            print('Match: ',a,b)\n",
    "    print(good_pairs)\n",
    "    print(len(good_pairs))"
   ]
  },
  {
   "cell_type": "code",
   "execution_count": null,
   "metadata": {},
   "outputs": [],
   "source": [
    "print(good_pairs)\n",
    "print(len(good_pairs))"
   ]
  },
  {
   "cell_type": "code",
   "execution_count": null,
   "metadata": {},
   "outputs": [],
   "source": [
    "\n",
    "# def count_unique_heavy(topology,unique_ids):\n",
    "#     num_heavy = 0\n",
    "#     for atom in topology.atoms():\n",
    "#         if atom.index in unique_ids:\n",
    "#             if atom.element.name != 'hydrogen':\n",
    "#                 print(atom.element.name)\n",
    "#                 num_heavy += 1\n",
    "#     return num_heavy\n",
    "# good_pairs = []\n",
    "# for a,mola in tqdm(enumerate(all_mols[0:1])):\n",
    "#     old_system, _, old_topology = openeye.OEMol_to_omm_ff(mola)\n",
    "#     ha = oechem.OECount(mola, oechem.OEIsHeavy())\n",
    "#     for b,molb in enumerate(all_mols):\n",
    "#         if b <= a:\n",
    "#             continue  \n",
    "#         hb = oechem.OECount(molb, oechem.OEIsHeavy())\n",
    "#         if np.abs(hb - ha) > 2*max_unique:\n",
    "#             continue \n",
    "#         _, _, new_topology = openeye.OEMol_to_omm_ff(molb)\n",
    "#         proposal_engine = TwoMoleculeSetProposalEngine(mola, molb, system_generator)\n",
    "#         proposal = proposal_engine.propose(old_system, old_topology)   \n",
    "#         if count_unique_heavy(old_topology,proposal.unique_old_atoms) > max_unique:\n",
    "#             continue\n",
    "#         elif count_unique_heavy(new_topology,proposal.unique_new_atoms) > max_unique:\n",
    "#             continue\n",
    "#         else:\n",
    "#             good_pairs.append((all_mols.index(mola), all_mols.index(molb)))\n",
    "#             print('Match: ',a,b)"
   ]
  },
  {
   "cell_type": "code",
   "execution_count": null,
   "metadata": {},
   "outputs": [],
   "source": []
  }
 ],
 "metadata": {
  "kernelspec": {
   "display_name": "Python 3",
   "language": "python",
   "name": "python3"
  },
  "language_info": {
   "codemirror_mode": {
    "name": "ipython",
    "version": 3
   },
   "file_extension": ".py",
   "mimetype": "text/x-python",
   "name": "python",
   "nbconvert_exporter": "python",
   "pygments_lexer": "ipython3",
   "version": "3.6.8"
  }
 },
 "nbformat": 4,
 "nbformat_minor": 2
}
