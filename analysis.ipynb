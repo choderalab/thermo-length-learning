{
 "cells": [
  {
   "cell_type": "code",
   "execution_count": 63,
   "metadata": {},
   "outputs": [],
   "source": [
    "%matplotlib inline\n",
    "\n",
    "\n",
    "import matplotlib.pyplot as plt\n",
    "import numpy as np\n",
    "import os\n",
    "import pandas as pd\n",
    "import seaborn as sns"
   ]
  },
  {
   "cell_type": "code",
   "execution_count": 64,
   "metadata": {},
   "outputs": [],
   "source": [
    "# getting all of the names and strings of the molecules for future reference\n",
    "class Molecule(object):\n",
    "    def __init__(self,i,name,smile):\n",
    "        self.index = i\n",
    "        self.name = name\n",
    "        self.smile = smile\n",
    "\n",
    "molecules = []\n",
    "\n",
    "with open('database.txt','r') as f:\n",
    "    index = 0\n",
    "    for line in f:\n",
    "        if line[0] == '#':\n",
    "            continue\n",
    "        smile = line.split(';')[1]\n",
    "        name = line.split(';')[2]\n",
    "        molecules.append(Molecule(index, name, smile))\n",
    "        index += 1 "
   ]
  },
  {
   "cell_type": "code",
   "execution_count": 77,
   "metadata": {},
   "outputs": [],
   "source": [
    "# opening all of the results\n",
    "\n",
    "# df = pd.DataFrame(columns=['ligand A', 'ligand B', 'vacuum variance', 'solvent variance'])\n",
    "results = []\n",
    "\n",
    "all_files = os.listdir()\n",
    "for folder in [x for x in all_files if x[0:3] == 'lig']:\n",
    "    with open(f'{folder}/results.txt','r') as f:\n",
    "        for line in f:\n",
    "            details = line.split(',')\n",
    "            if details[0] == 'ligands':\n",
    "                a = details[1]\n",
    "                b = details[2]\n",
    "            elif details[0] == 'vacuum':\n",
    "                vacddg = details[2]\n",
    "            elif details[0] == 'solvent':\n",
    "                solddg = details[2]                \n",
    "        # efficiency is log10(1/var)\n",
    "        results.append([int(a),int(b),np.log10(float(vacddg)**-1),np.log10(float(solddg)**-1)])"
   ]
  },
  {
   "cell_type": "code",
   "execution_count": 79,
   "metadata": {},
   "outputs": [
    {
     "data": {
      "text/html": [
       "<div>\n",
       "<style scoped>\n",
       "    .dataframe tbody tr th:only-of-type {\n",
       "        vertical-align: middle;\n",
       "    }\n",
       "\n",
       "    .dataframe tbody tr th {\n",
       "        vertical-align: top;\n",
       "    }\n",
       "\n",
       "    .dataframe thead th {\n",
       "        text-align: right;\n",
       "    }\n",
       "</style>\n",
       "<table border=\"1\" class=\"dataframe\">\n",
       "  <thead>\n",
       "    <tr style=\"text-align: right;\">\n",
       "      <th></th>\n",
       "      <th>ligand A</th>\n",
       "      <th>ligand B</th>\n",
       "      <th>vacuum efficiency</th>\n",
       "      <th>solvent efficiency</th>\n",
       "    </tr>\n",
       "  </thead>\n",
       "  <tbody>\n",
       "    <tr>\n",
       "      <th>0</th>\n",
       "      <td>0</td>\n",
       "      <td>49</td>\n",
       "      <td>3.837325</td>\n",
       "      <td>1.905048</td>\n",
       "    </tr>\n",
       "    <tr>\n",
       "      <th>1</th>\n",
       "      <td>8</td>\n",
       "      <td>136</td>\n",
       "      <td>2.070911</td>\n",
       "      <td>1.434029</td>\n",
       "    </tr>\n",
       "    <tr>\n",
       "      <th>2</th>\n",
       "      <td>4</td>\n",
       "      <td>217</td>\n",
       "      <td>2.024294</td>\n",
       "      <td>1.347729</td>\n",
       "    </tr>\n",
       "    <tr>\n",
       "      <th>3</th>\n",
       "      <td>13</td>\n",
       "      <td>266</td>\n",
       "      <td>3.828545</td>\n",
       "      <td>1.245822</td>\n",
       "    </tr>\n",
       "    <tr>\n",
       "      <th>4</th>\n",
       "      <td>4</td>\n",
       "      <td>319</td>\n",
       "      <td>2.160709</td>\n",
       "      <td>1.389169</td>\n",
       "    </tr>\n",
       "  </tbody>\n",
       "</table>\n",
       "</div>"
      ],
      "text/plain": [
       "   ligand A  ligand B  vacuum efficiency  solvent efficiency\n",
       "0         0        49           3.837325            1.905048\n",
       "1         8       136           2.070911            1.434029\n",
       "2         4       217           2.024294            1.347729\n",
       "3        13       266           3.828545            1.245822\n",
       "4         4       319           2.160709            1.389169"
      ]
     },
     "execution_count": 79,
     "metadata": {},
     "output_type": "execute_result"
    }
   ],
   "source": [
    "df = pd.DataFrame(results,columns=['ligand A', 'ligand B', 'vacuum efficiency', 'solvent efficiency'])    \n",
    "df.head()"
   ]
  },
  {
   "cell_type": "code",
   "execution_count": 92,
   "metadata": {},
   "outputs": [
    {
     "data": {
      "image/png": "[encoded data removed]",
      "text/plain": [
       "<Figure size 360x360 with 1 Axes>"
      ]
     },
     "metadata": {
      "needs_background": "light"
     },
     "output_type": "display_data"
    },
    {
     "data": {
      "image/png": "[encoded data removed]",
      "text/plain": [
       "<Figure size 432x432 with 3 Axes>"
      ]
     },
     "metadata": {
      "needs_background": "light"
     },
     "output_type": "display_data"
    }
   ],
   "source": [
    "# sns.lmplot(x=\"vacuum variance\", y=\"solvent variance\", data=df)\n",
    "\n",
    "# f, ax = plt.subplots(figsize=(7, 7))\n",
    "# ax.set(xscale=\"log\", yscale=\"log\")\n",
    "sns.lmplot(x=\"vacuum efficiency\", y=\"solvent efficiency\", data=df)\n",
    "plt.xlabel('vacuum efficiency / log10')\n",
    "plt.ylabel('solvent efficiency / log10')\n",
    "plt.show()\n",
    "\n",
    "sns.jointplot(x=\"vacuum efficiency\", y=\"solvent efficiency\", data=df, kind=\"hex\", color=\"#4CB391\")\n",
    "plt.show()"
   ]
  },
  {
   "cell_type": "code",
   "execution_count": 93,
   "metadata": {},
   "outputs": [
    {
     "name": "stdout",
     "output_type": "stream",
     "text": [
      " methyl hexanoate  hexanoic acid\n",
      " 2,2,4-trimethylpentane  2,2-dimethylpentane\n",
      " phenyl formate  2-methoxyphenol\n",
      " 1-iodopropane  propanenitrile\n",
      " phenyl formate  2-methoxyaniline\n",
      " 2,2,4-trimethylpentane  2,3,4-trimethylpentane\n",
      " 1,3-dichlorobenzene  1,2,3-trichlorobenzene\n",
      " 1-iodopropane  isobutane\n",
      " methyl hexanoate  ethyl pentanoate\n",
      " methyl propanoate  butyric acid\n",
      " 1,3-dichlorobenzene  3-chlorophenol\n",
      " 1-iodopropane  propane\n",
      " phenyl formate  anisole\n",
      " methyl propanoate  ethyl acetate\n",
      " 1,3-dichlorobenzene  1,2,4-trichlorobenzene\n",
      " 1,3-dichlorobenzene  1,3,5-trichlorobenzene\n",
      " 1-iodopropane  propan-1-ol\n",
      " 1-iodopropane  propan-2-ol\n",
      " 1-iodopropane  2-bromopropane\n",
      " methyl propanoate  methyl 2-chloroacetate\n",
      " methyl propanoate  methyl acetate\n",
      " methyl hexanoate  ethyl hexanoate\n",
      " methyl propanoate  ethyl propanoate\n",
      " 1-iodopropane  1-bromopropane\n",
      " phenyl formate  3-methoxyphenol\n",
      " 1,2,3,4-tetrachloro-5-(3,4-dichlorophenyl)benzene  1,2,4,5-tetrachloro-3-(3,4-dichlorophenyl)benzene\n",
      " 2,2,4-trimethylpentane  2,4-dimethylpentane\n",
      " 1,2,3,4-tetrachloro-5-(3,4-dichlorophenyl)benzene  1,2,3,4-tetrachloro-5-(2,3,4-trichlorophenyl)benzene\n",
      " 1-iodopropane  but-1-yne\n",
      " methyl propanoate  propyl formate\n",
      " 1,3-dichlorobenzene  2-chlorophenol\n",
      " phenyl formate  ethoxybenzene\n",
      " 1-iodopropane  1-chloropropane\n",
      " phenyl formate  3-methoxyaniline\n",
      " 1-iodopropane  propan-1-amine\n",
      " phenyl formate  4-methoxyaniline\n",
      " methylsulfanylbenzene  benzenethiol\n",
      " 1,3-dichlorobenzene  3-chloroaniline\n",
      " methyl propanoate  1-methoxypropane\n",
      " 1-iodopropane  n-butane\n",
      " 1,2,3,4-tetrachloro-5-(3,4-dichlorophenyl)benzene  1,2,3,4-tetrachloro-5-(3,4,5-trichlorophenyl)benzene\n",
      " 1-iodopropane  but-1-ene\n",
      " methyl propanoate  propionic acid\n",
      " 1,3-dichlorobenzene  chlorobenzene\n",
      " 1-iodopropane  propanethiol\n",
      " 1,3-dichlorobenzene  1-chloro-2-methyl-benzene\n",
      " 1,3-dichlorobenzene  1,2-dichlorobenzene\n",
      " 1,3-dichlorobenzene  4-chlorophenol\n",
      " 1-iodopropane  2-iodopropane\n",
      " 1,3-dichlorobenzene  2-chloroaniline\n",
      " methyl propanoate  methyl 2-cyanoacetate\n",
      " methyl propanoate  methyl butanoate\n",
      " 1,3-dichlorobenzene  1,4-dichlorobenzene\n",
      " 1,3-dichlorobenzene  4-chloroaniline\n",
      " methyl hexanoate  methyl pentanoate\n",
      " 1-iodopropane  2-chloropropane\n",
      " 1-iodopropane  propanal\n"
     ]
    }
   ],
   "source": [
    "for index, row in df.iterrows(): # iterrows casts ints as floats, but itertuples is uglier\n",
    "    print(molecules[int(row['ligand A'])].name, molecules[int(row['ligand B'])].name)"
   ]
  },
  {
   "cell_type": "code",
   "execution_count": null,
   "metadata": {},
   "outputs": [],
   "source": []
  }
 ],
 "metadata": {
  "kernelspec": {
   "display_name": "Python 3",
   "language": "python",
   "name": "python3"
  },
  "language_info": {
   "codemirror_mode": {
    "name": "ipython",
    "version": 3
   },
   "file_extension": ".py",
   "mimetype": "text/x-python",
   "name": "python",
   "nbconvert_exporter": "python",
   "pygments_lexer": "ipython3",
   "version": "3.6.8"
  }
 },
 "nbformat": 4,
 "nbformat_minor": 2
}
